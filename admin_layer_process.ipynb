{
 "cells": [
  {
   "cell_type": "code",
   "execution_count": null,
   "metadata": {},
   "outputs": [],
   "source": [
    "import os\n",
    "import shutil\n",
    "import pandas as pd\n",
    "import zipfile\n",
    "import time\n",
    "from functions import *\n",
    "\n",
    "try:\n",
    "    path_finder_group1() #행정동\n",
    "    path_finder_group2()\n",
    "    path_finder_group3_road()\n",
    "    path_finder_group3_sttn()\n",
    "    path_finder_group4_con()\n",
    "    path_finder_group4_road()\n",
    "    \n",
    "except Exception as ex: # 에러 종류\n",
    "    print('에러가 발생 했습니다', ex)"
   ]
  },
  {
   "cell_type": "code",
   "execution_count": null,
   "metadata": {},
   "outputs": [],
   "source": []
  }
 ],
 "metadata": {
  "kernelspec": {
   "display_name": "admin",
   "language": "python",
   "name": "python3"
  },
  "language_info": {
   "codemirror_mode": {
    "name": "ipython",
    "version": 3
   },
   "file_extension": ".py",
   "mimetype": "text/x-python",
   "name": "python",
   "nbconvert_exporter": "python",
   "pygments_lexer": "ipython3",
   "version": "3.9.18"
  }
 },
 "nbformat": 4,
 "nbformat_minor": 2
}
