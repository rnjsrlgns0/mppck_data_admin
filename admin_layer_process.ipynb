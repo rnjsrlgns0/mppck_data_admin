{
 "cells": [
  {
   "cell_type": "code",
   "execution_count": 1,
   "metadata": {},
   "outputs": [
    {
     "name": "stderr",
     "output_type": "stream",
     "text": [
      "/var/folders/_p/b25fmdzs0gs_7l54_j6744sm0000gn/T/ipykernel_10796/3932667667.py:3: DeprecationWarning: \n",
      "Pyarrow will become a required dependency of pandas in the next major release of pandas (pandas 3.0),\n",
      "(to allow more performant data types, such as the Arrow string type, and better interoperability with other libraries)\n",
      "but was not found to be installed on your system.\n",
      "If this would cause problems for you,\n",
      "please provide us feedback at https://github.com/pandas-dev/pandas/issues/54466\n",
      "        \n",
      "  import pandas as pd\n"
     ]
    },
    {
     "name": "stdout",
     "output_type": "stream",
     "text": [
      "['51000', '41000', '30000', '31000', '44000', '50000', '11000', '28000', '48000', '29000', '47000', '36000', '26000', '43000', '52000', '27000', '46000']\n"
     ]
    }
   ],
   "source": [
    "import os\n",
    "import shutil\n",
    "import pandas as pd\n",
    "import zipfile\n",
    "import time\n",
    "from functions import *\n",
    "\n",
    "try:\n",
    "    path_finder_group1() #행정동\n",
    "    path_finder_group2()\n",
    "    path_finder_group3_road()\n",
    "    path_finder_group3_sttn()\n",
    "    path_finder_group4_con()\n",
    "    path_finder_group4_road()\n",
    "    \n",
    "except Exception as ex: # 에러 종류\n",
    "    print('에러가 발생 했습니다', ex)"
   ]
  },
  {
   "cell_type": "code",
   "execution_count": null,
   "metadata": {},
   "outputs": [],
   "source": []
  }
 ],
 "metadata": {
  "kernelspec": {
   "display_name": "admin",
   "language": "python",
   "name": "python3"
  },
  "language_info": {
   "codemirror_mode": {
    "name": "ipython",
    "version": 3
   },
   "file_extension": ".py",
   "mimetype": "text/x-python",
   "name": "python",
   "nbconvert_exporter": "python",
   "pygments_lexer": "ipython3",
   "version": "3.9.18"
  }
 },
 "nbformat": 4,
 "nbformat_minor": 2
}
