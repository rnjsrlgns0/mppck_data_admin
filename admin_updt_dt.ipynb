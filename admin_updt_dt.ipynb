{
 "cells": [
  {
   "cell_type": "code",
   "execution_count": 8,
   "metadata": {},
   "outputs": [],
   "source": [
    "# db연결\n",
    "from module_sql_table import *\n",
    "from connection_info import *\n",
    "from psycopg2 import connect \n",
    "\n",
    "# 관리 테이블 업데이트 일자 반영\n",
    "import pandas as pd"
   ]
  },
  {
   "cell_type": "code",
   "execution_count": 19,
   "metadata": {},
   "outputs": [],
   "source": [
    "# update 대상 테이블명 불러오기\n",
    "li_table = pd.read_excel('운영-배포레이어.xlsx', \n",
    "              sheet_name='관리레이어',\n",
    "              )['레이어 아이디']"
   ]
  },
  {
   "cell_type": "code",
   "execution_count": 21,
   "metadata": {},
   "outputs": [
    {
     "data": {
      "text/plain": [
       "<cursor object at 0x11492cd60; closed: 0>"
      ]
     },
     "execution_count": 21,
     "metadata": {},
     "output_type": "execute_result"
    }
   ],
   "source": [
    "# smt 테이블은 geondba 계정으로 접근해야함\n",
    "# geondba -> commit\n",
    "# cursor -> execute"
   ]
  },
  {
   "cell_type": "markdown",
   "metadata": {},
   "source": [
    "# smt_lyr_info의 등록일자(=regist_dt) lyr_id컬럼의 값을 이용해 업데이트"
   ]
  },
  {
   "cell_type": "code",
   "execution_count": 26,
   "metadata": {},
   "outputs": [],
   "source": [
    "for i in li_table:\n",
    "    sql = f\"\"\"\n",
    "    UPDATE mappick_instt.smt_lyr_info \n",
    "    SET regist_dt = NOW()\n",
    "    WHERE lyr_id = '{i}';\n",
    "    \"\"\"\n",
    "    cursor.execute(sql)\n",
    "    geondba.commit()"
   ]
  },
  {
   "cell_type": "code",
   "execution_count": null,
   "metadata": {},
   "outputs": [],
   "source": []
  }
 ],
 "metadata": {
  "kernelspec": {
   "display_name": "admin",
   "language": "python",
   "name": "python3"
  },
  "language_info": {
   "codemirror_mode": {
    "name": "ipython",
    "version": 3
   },
   "file_extension": ".py",
   "mimetype": "text/x-python",
   "name": "python",
   "nbconvert_exporter": "python",
   "pygments_lexer": "ipython3",
   "version": "3.9.18"
  }
 },
 "nbformat": 4,
 "nbformat_minor": 2
}
